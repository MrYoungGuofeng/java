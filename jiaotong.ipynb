{
 "cells": [
  {
   "cell_type": "code",
   "execution_count": 38,
   "metadata": {},
   "outputs": [
    {
     "name": "stdout",
     "output_type": "stream",
     "text": [
      "各线路需要的时间\n",
      "————————————————\n",
      "路线 1 需要 3.0 小时\n",
      "路线 2 需要 2.5000000000000004 小时\n",
      "路线 3 需要 2.499999999999999 小时\n",
      "路线 4 需要 12.5 小时\n",
      "路线 5 需要 11.999999999999998 小时\n",
      "路线 6 需要 11.166666666666668 小时\n",
      "路线 7 需要 10.916666666666668 小时\n",
      "路线 8 需要 13.5 小时\n",
      "路线 9 需要 13.166666666666668 小时\n",
      "路线 10 需要 13.5 小时\n",
      "路线 11 需要 13.5 小时\n",
      "路线 12 需要 12.916666666666666 小时\n"
     ]
    }
   ],
   "source": [
    "#读取\n",
    "import xlrd\n",
    "\n",
    "t = []\n",
    "data = xlrd.open_workbook(\"./Excel/时间线路表.xlsx\")\n",
    "table = data.sheet_by_name(\"Sheet1\")\n",
    "rs = table.nrows\n",
    "\n",
    "print(\"各线路需要的时间\",\"————————————————\",sep=\"\\n\")\n",
    "for i in range(2,rs):\n",
    "    t_index = table.cell(i,0).value\n",
    "    t_start = table.cell(i,3).value\n",
    "    t_end = table.cell(i,5).value\n",
    "    t_used = t_end - t_start\n",
    "    t.append(t_used*24)\n",
    "    print(\"路线\",int(t_index),\"需要\",t_used*24,\"小时\")\n",
    "\n",
    "#写入\n",
    "import xlwt\n",
    "book = xlwt.Workbook()\n",
    "sheet = book.add_sheet(\"Sheet1\")\n",
    "\n",
    "sheet.write(1,0, table.cell(1,0).value)\n",
    "sheet.write(1,1, \"需要的时间\")\n",
    "for i in range (0,len(t)):\n",
    "    sheet.write(i + 2,0, table.cell(i + 2,0).value)\n",
    "    sheet.write(i + 2,1, str(t[i])+\"小时\")\n",
    "book.save('./Excel/个性化输出.xls')"
   ]
  },
  {
   "cell_type": "code",
   "execution_count": null,
   "metadata": {},
   "outputs": [],
   "source": []
  }
 ],
 "metadata": {
  "kernelspec": {
   "display_name": "Python 3",
   "language": "python",
   "name": "python3"
  },
  "language_info": {
   "codemirror_mode": {
    "name": "ipython",
    "version": 3
   },
   "file_extension": ".py",
   "mimetype": "text/x-python",
   "name": "python",
   "nbconvert_exporter": "python",
   "pygments_lexer": "ipython3",
   "version": "3.8.5"
  }
 },
 "nbformat": 4,
 "nbformat_minor": 4
}
